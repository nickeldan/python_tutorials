{
 "cells": [
  {
   "cell_type": "markdown",
   "metadata": {},
   "source": [
    "Decorators\n",
    "==========\n",
    "\n",
    "Decorators are a built-in feature that allow you to add predefined functionality on top of other functions.  So, what exactly is a decorator?  The general definitions is that a decorator is a callable object that takes a callable object as an argument and returns a callable object.\n",
    "\n",
    "Whew!  That was a mouthful.  Since most of the callable objects we'll be working with are functions, let's simplify that definition.  A decorator is a function which takes a function as an argument and returns a function.\n",
    "\n",
    "Why would you ever want to use something like that?  Let's consider a simple but useful example."
   ]
  },
  {
   "cell_type": "code",
   "execution_count": null,
   "metadata": {},
   "outputs": [],
   "source": [
    "import time\n",
    "\n",
    "def timer(func):\n",
    "    def new_func(*args, **kwargs):\n",
    "        start = time.time()\n",
    "        value = func(*args, **kwargs)\n",
    "        duration = time.time() - start\n",
    "        print(f'Running {func.__name__} took {duration} seconds.')\n",
    "        return value\n",
    "    return new_func"
   ]
  },
  {
   "cell_type": "markdown",
   "metadata": {},
   "source": [
    "Before we study `timer` and figure out what it does, let's recognize that it fits the definition of a decorator.  It is a function, it takes in a function (`func`) as an argument, and it returns a function (`new_func`).\n",
    "\n",
    "Okay, so what does `new_func` do?  It makes a note of the current time, calls `func`, figures out how many seconds elapsed while `func` was running, prints that result to the screen, and returns `func`'s value.\n",
    "\n",
    "By the way, if you're confused by the `*args` and `**kwargs`, they represent the positional and keyword arguments, respectively, that `new_func` is called with.  The idea is that we don't know what arguments the user will pass, so we're telling Python, \"However many positional and keyword arguments someone calls `new_func` with, pass those same arguments to `func`.\"\n",
    "\n",
    "Okay, so let's see `timer` in action."
   ]
  },
  {
   "cell_type": "code",
   "execution_count": null,
   "metadata": {},
   "outputs": [],
   "source": [
    "def slow_add(x, y):\n",
    "    result = x + y\n",
    "    time.sleep(result)\n",
    "    return result\n",
    "\n",
    "timed_slow_add = timer(slow_add)\n",
    "timed_slow_add(2, 3)"
   ]
  },
  {
   "cell_type": "markdown",
   "metadata": {},
   "source": [
    "Pretty neat, huh?  We now have a reusable piece of code (`timer`) that we can apply to any function.  The returned function wraps the original function in that it performs the exact same functionality plus we get to know how long the call took.\n",
    "\n",
    "However, there's some klunkiness we need to deal with.  Specifically, the name `timed_slow_add` is too cumbersome.  In addition, there's no reason for us to carry around two separate variables, `slow_add` and `timed_slow_add`, when we'll only ever be calling `timed_slow_add`.\n",
    "\n",
    "What if we did\n",
    "```python\n",
    "slow_add = timer(slow_add)\n",
    "```\n",
    "?\n",
    "\n",
    "Not only does that avoid cluttering our global namespace with a variable we're never going to use but it allows us to easily modify our code in case we ever want to remove the added functionality.\n",
    "\n",
    "To explain, consider what we'd have to do if we used the name `timed_slow_add`.  All throughout our code, we'd have to type out `timed_slow_add` every time we wanted to use our original function.  Remember the lesson that Larry Wall taught us: The first great virtue of a programmer is laziness.\n",
    "\n",
    "Furthermore, what if we suddenly wanted to run our code without the timer functionality?  We'd have to replace every occurence in our code of `timed_slow_add` with `slow_add`.  If our code spans multiple source files in multiple directories, that can get annoying quickly.  On the other hand, if we instead did `slow_add = timer(slow_add)`, all we'd need to do to remove the functionality is\n",
    "\n",
    "```python\n",
    "# slow_add = timer(slow_add)\n",
    "```\n",
    "\n",
    "This use pattern is so common that a shorthand has been built into Python's syntax.  Check this out:"
   ]
  },
  {
   "cell_type": "code",
   "execution_count": null,
   "metadata": {},
   "outputs": [],
   "source": [
    "@timer\n",
    "def slow_multiply(x, y):\n",
    "    result = x * y\n",
    "    time.sleep(result)\n",
    "    return result\n",
    "\n",
    "slow_multiply(2, 3)"
   ]
  },
  {
   "cell_type": "markdown",
   "metadata": {},
   "source": [
    "The above code is equivalent to\n",
    "\n",
    "```python\n",
    "def slow_multiply(x, y):\n",
    "    result = x * y\n",
    "    time.sleep(result)\n",
    "    return result\n",
    "slow_multiply = timer(slow_multiply)\n",
    "\n",
    "slow_multiply(2, 3)\n",
    "```\n",
    "\n",
    "Just like above, if we ever wanted to remove the added functionality, all it would take is commenting a line out:\n",
    "\n",
    "```python\n",
    "#@timer\n",
    "def slow_multiply(x, y):\n",
    "    result = x * y\n",
    "    time.sleep(result)\n",
    "    return result\n",
    "```\n",
    "\n",
    "Or, better yet,\n",
    "\n",
    "```python\n",
    "USE_TIMER = True\n",
    "\n",
    "def timer(func):\n",
    "    if not USE_TIMER:\n",
    "        return func\n",
    "    \n",
    "    def new_func(*args, **kwargs):\n",
    "        start = time.time()\n",
    "        value = func(*args, **kwargs)\n",
    "        duration = time.time() - start\n",
    "        print(f'Running {func} took {duration} seconds.')\n",
    "        return value\n",
    "    return new_func\n",
    "```\n",
    "\n",
    "This way, all you have to do is change `USE_TIMER` to `False` and *all* functions decorated with `timer` will lose the added functionality."
   ]
  },
  {
   "cell_type": "markdown",
   "metadata": {},
   "source": [
    "Combining decorators\n",
    "--------------------------\n",
    "\n",
    "You can even apply more than one decorator to a function.  First, let's create a decorator which \"logs\" (i.e., prints to the screen) the return value of the decorated function."
   ]
  },
  {
   "cell_type": "code",
   "execution_count": null,
   "metadata": {},
   "outputs": [],
   "source": [
    "def log_result(func):\n",
    "    def new_func(*args, **kwargs):\n",
    "        value = func(*args, **kwargs)\n",
    "        print(f'{func.__name__} returned {value}.')\n",
    "        return value\n",
    "    return new_func\n",
    "\n",
    "@log_result\n",
    "def returns_five_slowly():\n",
    "    time.sleep(2)\n",
    "    return 5\n",
    "\n",
    "returns_five_slowly()"
   ]
  },
  {
   "cell_type": "markdown",
   "metadata": {},
   "source": [
    "What if we wanted to print a function's return value *and* how long it took?"
   ]
  },
  {
   "cell_type": "code",
   "execution_count": null,
   "metadata": {},
   "outputs": [],
   "source": [
    "import random\n",
    "\n",
    "@timer\n",
    "@log_result\n",
    "def slow_random_number():\n",
    "    time.sleep(3)\n",
    "    return random.randint(1, 10)\n",
    "\n",
    "slow_random_number()"
   ]
  },
  {
   "cell_type": "markdown",
   "metadata": {},
   "source": [
    "Pretty neat, huh?  You can chain as many decorators as you want together to add more and more funcionality.\n",
    "\n",
    "However, look closely at the output.  Does something look strange?\n",
    "\n",
    "The second line says that `new_func` took three seconds to run.  Why didn't it call the function `slow_random_number` as the first line did?\n",
    "\n",
    "To see what happened, let's recall what decoration does.  The use of those decorators was equivalent to\n",
    "\n",
    "```python\n",
    "def slow_random_number():\n",
    "    time.sleep(3)\n",
    "    return random.randint(1, 10)\n",
    "slow_random_number = log_result(slow_random_number)\n",
    "slow_random_number = timer(slow_random_number)\n",
    "```\n",
    "\n",
    "We're calling `timer` not with the original `slow_random_number` function but with the function that was returned by `log_result`.  If you look at `log_result`'s definition, you see that the returned function was called `new_func`.  That's what was decorated by `log_result`.\n",
    "\n",
    "That's pretty annoying.  Luckily, there's a way to fix that.  We'll have to redefine our decorators."
   ]
  },
  {
   "cell_type": "code",
   "execution_count": null,
   "metadata": {},
   "outputs": [],
   "source": [
    "import functools\n",
    "\n",
    "def timer(func):\n",
    "    @functools.wraps(func)\n",
    "    def new_func(*args, **kwargs):\n",
    "        start = time.time()\n",
    "        value = func(*args, **kwargs)\n",
    "        duration = time.time() - start\n",
    "        print(f'Running {func.__name__} took {duration} seconds.')\n",
    "        return value\n",
    "    return new_func\n",
    "\n",
    "def log_result(func):\n",
    "    @functools.wraps(func)\n",
    "    def new_func(*args, **kwargs):\n",
    "        value = func(*args, **kwargs)\n",
    "        print(f'{func.__name__} returned {value}.')\n",
    "        return value\n",
    "    return new_func\n",
    "\n",
    "@timer\n",
    "@log_result\n",
    "def slow_random_number():\n",
    "    time.sleep(3)\n",
    "    return random.randint(1, 10)\n",
    "\n",
    "slow_random_number()"
   ]
  },
  {
   "cell_type": "markdown",
   "metadata": {},
   "source": [
    "Much better!  `functools.wraps` modified `new_func` so that it had the same name as `func`."
   ]
  },
  {
   "cell_type": "markdown",
   "metadata": {},
   "source": [
    "Decorator factories\n",
    "-----------------------\n",
    "\n",
    "Take another look the previous example.  What kind of object is `functools.wraps`?  Is it a decorator?  Not quite.  Take a closer look.  What is decorating `new_func`?  It's not `functools.wraps` but rather `functools.wraps(func)`.  That is, `functools.wraps` took `func` as an argument and *returned* a decorator!  `functools.wraps` is a function which takes a function as an argument and returns a function with takes a function as an argument and returns a function.  Hoo, boy!\n",
    "\n",
    "`functools.wraps` is what is known as a decorator factory.  Decorator factories are functions which take input and return a decorator to us.  They allow us to create custom decorators upon demand.  They're very useful objects that show up a lot in Python, especially in frameworks such as Flask and pytest.\n",
    "\n",
    "Let's make one!  Our goal will be to make a decorator factory which accepts a string containing an adjective and returns a decorator which, when applied to a function, will cause that function to describe itself using that adjective whenever called.  That is,\n",
    "\n",
    "```python\n",
    "@describe_as('boring')\n",
    "def does_nothing():\n",
    "    pass\n",
    "\n",
    "does_nothing() # prints, \"does_nothing is a boring function.\"\n",
    "```\n",
    "\n",
    "You may still be trying to wrap your head around the idea of a function which takes an argument and returns a function which takes a function as an argument and returns a function.  So, before we get to writing the decorator factory, let's write what the decorator would be if we wanted to always use the adjective \"boring\"."
   ]
  },
  {
   "cell_type": "code",
   "execution_count": null,
   "metadata": {},
   "outputs": [],
   "source": [
    "def describe_as_boring(func):\n",
    "    @functools.wraps(func)\n",
    "    def new_func(*args, **kwargs):\n",
    "        print(f'{func.__name__} is a boring function.')\n",
    "        return func(*args, **kwargs)\n",
    "    return new_func\n",
    "\n",
    "@describe_as_boring\n",
    "def does_nothing():\n",
    "    pass\n",
    "\n",
    "does_nothing()"
   ]
  },
  {
   "cell_type": "markdown",
   "metadata": {},
   "source": [
    "Pretty easy.  Now, what if we wanted to use a different adjective?"
   ]
  },
  {
   "cell_type": "code",
   "execution_count": null,
   "metadata": {},
   "outputs": [],
   "source": [
    "def describe_as_simple(func):\n",
    "    @functools.wraps(func)\n",
    "    def new_func(*args, **kwargs):\n",
    "        print(f'{func.__name__} is a simple function.')\n",
    "        return func(*args, **kwargs)\n",
    "    return new_func\n",
    "\n",
    "@describe_as_simple\n",
    "def adds_one(x):\n",
    "    return x + 1\n",
    "\n",
    "adds_one(5)"
   ]
  },
  {
   "cell_type": "markdown",
   "metadata": {},
   "source": [
    "Now, all we need to do is generate the above logic upon demand whenever we're given an adjective."
   ]
  },
  {
   "cell_type": "code",
   "execution_count": null,
   "metadata": {},
   "outputs": [],
   "source": [
    "def describe_as(adjective):\n",
    "    article = 'an' if adjective[0] in ('a', 'e', 'i', 'o', 'u') else 'a'\n",
    "    def decorator(func):\n",
    "        @functools.wraps(func)\n",
    "        def new_func(*args, **kwargs):\n",
    "            print(f'{func.__name__} is {article} {adjective} function.')\n",
    "            return func(*args, **kwargs)\n",
    "        return new_func\n",
    "    return decorator\n",
    "\n",
    "@describe_as('annoying')\n",
    "def foobar(value):\n",
    "    for _ in range(10):\n",
    "        time.sleep(1)\n",
    "        print('Blah!')\n",
    "    return value\n",
    "\n",
    "foobar(3)"
   ]
  },
  {
   "cell_type": "markdown",
   "metadata": {},
   "source": [
    "Study the definition of `describe_as` before you move on.  Make sure you understand what each `def` is for."
   ]
  },
  {
   "cell_type": "markdown",
   "metadata": {},
   "source": [
    "Appendix\n",
    "-----------\n",
    "\n",
    "All of the decorators we've looked at so far have added functionality to the decorated function.  While that is the typical use case, there are times when the decorator returns the original function unmodified.  Why would you ever want to do that?  Sometimes, you want to store a reference to the function for use later (Flask does this with its `app.route` decorator factory).\n",
    "\n",
    "Consider this simple use case:"
   ]
  },
  {
   "cell_type": "code",
   "execution_count": null,
   "metadata": {},
   "outputs": [],
   "source": [
    "class InvalidCommand(Exception):\n",
    "    pass\n",
    "\n",
    "class Robot:\n",
    "    def __init__(self):\n",
    "        self.commands = {}\n",
    "    \n",
    "    def __getattr__(self, attr):\n",
    "        command = self.commands.get(attr)\n",
    "        if command is None:\n",
    "            raise InvalidCommand(attr)\n",
    "        return command\n",
    "\n",
    "    def register_command(self, func):\n",
    "        self.commands[func.__name__] = func\n",
    "        return func\n",
    "    \n",
    "    def list_commands(self):\n",
    "        return list(self.commands)\n",
    "\n",
    "robot = Robot()\n",
    "\n",
    "@robot.register_command\n",
    "def sweep_the_floor():\n",
    "    print('Sweeping the floor')\n",
    "\n",
    "@robot.register_command\n",
    "def do_taxes():\n",
    "    print('Doing your taxes')\n",
    "\n",
    "@robot.register_command\n",
    "def tell_a_joke():\n",
    "    print('Two clowns are eating a cannibal.  One turns to the other and says, \"I think we did this joke wrong.\"')\n",
    "    \n",
    "print(robot.list_commands())"
   ]
  },
  {
   "cell_type": "markdown",
   "metadata": {},
   "source": [
    "If you haven't seen it before, `__getattr__` is a magic method which is called whenever you invoke an attribute of an object which hasn't been explicitly defined."
   ]
  },
  {
   "cell_type": "code",
   "execution_count": null,
   "metadata": {},
   "outputs": [],
   "source": [
    "robot.sweep_the_floor()"
   ]
  },
  {
   "cell_type": "code",
   "execution_count": null,
   "metadata": {},
   "outputs": [],
   "source": [
    "robot.do_taxes()"
   ]
  },
  {
   "cell_type": "code",
   "execution_count": null,
   "metadata": {},
   "outputs": [],
   "source": [
    "robot.tell_a_joke()"
   ]
  }
 ],
 "metadata": {
  "kernelspec": {
   "display_name": "Python 3",
   "language": "python",
   "name": "python3"
  },
  "language_info": {
   "codemirror_mode": {
    "name": "ipython",
    "version": 3
   },
   "file_extension": ".py",
   "mimetype": "text/x-python",
   "name": "python",
   "nbconvert_exporter": "python",
   "pygments_lexer": "ipython3",
   "version": "3.8.16"
  }
 },
 "nbformat": 4,
 "nbformat_minor": 4
}
