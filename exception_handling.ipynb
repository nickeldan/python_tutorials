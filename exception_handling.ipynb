{
 "cells": [
  {
   "cell_type": "markdown",
   "metadata": {},
   "source": [
    "Exception Handling\n",
    "===============\n",
    "\n",
    "One of the nice things about languages like Python is that, when something goes wrong, it doesn't have to mean the end of your program (unlike in C where you can spend hours trying to diagnose a segfault [heisenbug](https://en.wikipedia.org/wiki/Heisenbug)).\n",
    "\n",
    "As a starting example of handling exceptions, consider a scenario where the user types in a number and you print its reciprocal."
   ]
  },
  {
   "cell_type": "code",
   "execution_count": null,
   "metadata": {},
   "outputs": [],
   "source": [
    "def reciprocal(msg='Enter a number'):\n",
    "    num = int(input(f'{msg}: '))\n",
    "    print(1/num)\n",
    "\n",
    "reciprocal()"
   ]
  },
  {
   "cell_type": "markdown",
   "metadata": {},
   "source": [
    "Of course, things get ugly if you enter in 0 or something which isn't a number at all."
   ]
  },
  {
   "cell_type": "code",
   "execution_count": null,
   "metadata": {},
   "outputs": [],
   "source": [
    "reciprocal('Enter 0')"
   ]
  },
  {
   "cell_type": "code",
   "execution_count": null,
   "metadata": {},
   "outputs": [],
   "source": [
    "reciprocal('Enter \"foo\"')"
   ]
  },
  {
   "cell_type": "markdown",
   "metadata": {},
   "source": [
    "It would be nice to anticipate invalid input and not let it crash the program."
   ]
  },
  {
   "cell_type": "code",
   "execution_count": null,
   "metadata": {},
   "outputs": [],
   "source": [
    "def reciprocal2(msg='Enter a number'):\n",
    "    try:\n",
    "        num = int(input(f'{msg}: '))\n",
    "        print(1/num)\n",
    "    except:\n",
    "        print('Invalid input!')\n",
    "\n",
    "reciprocal2('Enter 0')"
   ]
  },
  {
   "cell_type": "markdown",
   "metadata": {},
   "source": [
    "That's better than the nasty traceback we saw before.  However, there's a big problem with this way of handling exceptions."
   ]
  },
  {
   "cell_type": "code",
   "execution_count": null,
   "metadata": {},
   "outputs": [],
   "source": [
    "def bad_reciprocal(msg='Enter a number'):\n",
    "    try:\n",
    "        num = int(input(f'{msg}: '))\n",
    "        print(1/nun)\n",
    "    except:\n",
    "        print('Invalid input!')\n",
    "\n",
    "bad_reciprocal()"
   ]
  },
  {
   "cell_type": "markdown",
   "metadata": {},
   "source": [
    "What the?  How was 5 an invalid input?  Look more closely at the `print` statement.  I \"accidentally\" typed `nun` instead of `num`.  Since the `nun` variable didn't exist, Python raised a `NameError`.  However, we didn't see that because of our catch-all `except` block.  This leads to our first lesson: If possible, only catch those exception types you're expecting."
   ]
  },
  {
   "cell_type": "code",
   "execution_count": null,
   "metadata": {},
   "outputs": [],
   "source": [
    "def less_bad_reciprocal(msg='Enter a number'):\n",
    "    try:\n",
    "        num = int(input(f'{msg}: '))\n",
    "        print(1/nun)\n",
    "    except ValueError:\n",
    "        print('Invalid input!')\n",
    "    except ZeroDivisionError:\n",
    "        print('Cannot divide by 0!')"
   ]
  },
  {
   "cell_type": "code",
   "execution_count": null,
   "metadata": {},
   "outputs": [],
   "source": [
    "less_bad_reciprocal('Enter \"foo\"')"
   ]
  },
  {
   "cell_type": "code",
   "execution_count": null,
   "metadata": {},
   "outputs": [],
   "source": [
    "less_bad_reciprocal('Enter 0')"
   ]
  },
  {
   "cell_type": "markdown",
   "metadata": {},
   "source": [
    "You see?  Since we were specific about which errors we were anticipating, we were alerted to a typo in our code.\n",
    "\n",
    "Let's fix the typo."
   ]
  },
  {
   "cell_type": "code",
   "execution_count": null,
   "metadata": {},
   "outputs": [],
   "source": [
    "def good_reciprocal(msg='Enter a number'):\n",
    "    try:\n",
    "        num = int(input(f'{msg}: '))\n",
    "    except ValueError:\n",
    "        print('Invalid input!')\n",
    "        return\n",
    "        \n",
    "    try:\n",
    "        print(1/num)\n",
    "    except ZeroDivisionError:\n",
    "        print('Cannot divide by 0!')"
   ]
  },
  {
   "cell_type": "markdown",
   "metadata": {},
   "source": [
    "I also split the code into separate `try` blocks.  The reason is we have two lines of code each of which could produce a separate error.  Put another way, we're not anticipating that the `print` statement will raise a `ValueError` nor are we anticipating that the `input` line will raise a `ZeroDivisionError`.\n",
    "\n",
    "try with else\n",
    "--------------\n",
    "\n",
    "Let's consider another example."
   ]
  },
  {
   "cell_type": "code",
   "execution_count": null,
   "metadata": {},
   "outputs": [],
   "source": [
    "def enter_a_number():\n",
    "    try:\n",
    "        int(input('Enter a number: '))\n",
    "    except ValueError:\n",
    "        print('That\\'s not a number!')\n",
    "        return\n",
    "    \n",
    "    print('Yup!  That\\'s a number all right.')"
   ]
  },
  {
   "cell_type": "markdown",
   "metadata": {},
   "source": [
    "Pretty simple but that `return` statement looks ugly.  To see what I mean, consider this function:\n",
    "\n",
    "```python\n",
    "def even_or_odd(num):\n",
    "    if num % 2 == 0:\n",
    "        print('Even')\n",
    "        return\n",
    "\n",
    "    print('Odd')\n",
    "```\n",
    "\n",
    "Sure the function works but clearly it should have been written as\n",
    "\n",
    "```python\n",
    "def even_or_odd(num):\n",
    "    if num % 2 == 0:\n",
    "        print('Even')\n",
    "    else:\n",
    "        print('Odd')\n",
    "```\n",
    "\n",
    "The `if`/`else` logic exists for a reason.\n",
    "\n",
    "The `else` keyword can also be used with a `try` block.  The code under `else` will be executed if no exceptions were raised by the `try` block.  You can think of it as, \"If an exception is raised, do this.  Otherwise, do that.\""
   ]
  },
  {
   "cell_type": "code",
   "execution_count": null,
   "metadata": {},
   "outputs": [],
   "source": [
    "def better_enter_a_number():\n",
    "    try:\n",
    "        int(input('Enter a number: '))\n",
    "    except ValueError:\n",
    "        print('That\\'s not a number!')\n",
    "    else:\n",
    "        print('Yup!  That\\'s a number all right.')"
   ]
  },
  {
   "cell_type": "code",
   "execution_count": null,
   "metadata": {},
   "outputs": [],
   "source": [
    "better_enter_a_number()"
   ]
  },
  {
   "cell_type": "markdown",
   "metadata": {},
   "source": [
    "finally\n",
    "-------\n",
    "\n",
    "There's also the `finally` keyword.  Code in a `finally` block will **always** be executed whether an exception was raised or not."
   ]
  },
  {
   "cell_type": "code",
   "execution_count": null,
   "metadata": {},
   "outputs": [],
   "source": [
    "def end_with_a_bow():\n",
    "    try:\n",
    "        num = int(input('Enter a number: '))\n",
    "        print(f'Your number is half of {num * 2}.')\n",
    "    finally:\n",
    "        print('That\\'s all, folks!')"
   ]
  },
  {
   "cell_type": "code",
   "execution_count": null,
   "metadata": {},
   "outputs": [],
   "source": [
    "end_with_a_bow()"
   ]
  },
  {
   "cell_type": "markdown",
   "metadata": {},
   "source": [
    "What do you think will be printed by this next cell?"
   ]
  },
  {
   "cell_type": "code",
   "execution_count": null,
   "metadata": {},
   "outputs": [],
   "source": [
    "def weird_function(num):\n",
    "    try:\n",
    "        print('Returning num * 2')\n",
    "        return num * 2\n",
    "    finally:\n",
    "        num *= 10\n",
    "        print(f'num is now {num}.')\n",
    "\n",
    "print(weird_function(3))"
   ]
  },
  {
   "cell_type": "markdown",
   "metadata": {},
   "source": [
    "Did you guess right?  What happened here?  When the `return` statement was executed, the value `num * 2`, or 6, was placed in a sort of \"return slot\".  After that, the `finally` block was run which changed the value of `num`.  However, the value 6 was still in the \"return slot\".  Contrast this behavior with"
   ]
  },
  {
   "cell_type": "code",
   "execution_count": null,
   "metadata": {},
   "outputs": [],
   "source": [
    "def less_weird_function(num):\n",
    "    try:\n",
    "        num *= 2\n",
    "        print(f'Returning {num}.')\n",
    "        return num\n",
    "    finally:\n",
    "        print('On second thought, I want to return chicken.')\n",
    "        return 'chicken'\n",
    "\n",
    "print(less_weird_function(3))"
   ]
  },
  {
   "cell_type": "markdown",
   "metadata": {},
   "source": [
    "Here, the `finally` block overwrote the value stored in the \"return slot\".  By the way, that's just a name I made up.  Don't go searching StackOverflow or the [Python docs](docs.python.org) for \"return slot\".\n",
    "\n",
    "Chained exceptions\n",
    "-----------------------\n",
    "\n",
    "There are occasions when some code will raise an exception and, though you'd like to propagate the error to the user, you'd like to change what type of error the user receives.  This comes up a lot when you've imported someone else's code into your project and they've got their own custom exception classes which your user won't understand.\n",
    "\n",
    "Consider this contrived example:"
   ]
  },
  {
   "cell_type": "code",
   "execution_count": null,
   "metadata": {},
   "outputs": [],
   "source": [
    "class SuperConfusingError(Exception):\n",
    "    pass\n",
    "\n",
    "def imported_function(num):\n",
    "    if num == 3:\n",
    "        raise SuperConfusingError('According to the laws set down by the Padishah Emperor Shaddam IV, the number 3 is unacceptable as it attracts sand worms.')\n",
    "    return num * (num+1) // 2\n",
    "\n",
    "def user_function(msg='Please enter a number'):\n",
    "    num = int(input(f'{msg}: '))\n",
    "    try:\n",
    "        return imported_function(num)\n",
    "    except SuperConfusingError:\n",
    "        raise ValueError('3 is no good.')\n",
    "\n",
    "user_function('Enter 3')"
   ]
  },
  {
   "cell_type": "markdown",
   "metadata": {},
   "source": [
    "Well, that was no good.  I mean, we did replace the `SuperConfusingError` with a `ValueError` but we probably scared the pants off our user with that traceback.  Look at that message in the middle:\n",
    "\n",
    "```text\n",
    "During handling of the above exception, another exception occurred:\n",
    "```\n",
    "\n",
    "That makes it seem like two errors occurred.  Which one should the user pay attention to?  We want the user to focus on the `ValueError` since that's all he should care about.  That is, he only needs to know that 3 is an unacceptable input.  There are two ways to rectify this."
   ]
  },
  {
   "cell_type": "code",
   "execution_count": null,
   "metadata": {},
   "outputs": [],
   "source": [
    "def less_confusing_user_function(msg='Please enter a number'):\n",
    "    num = int(input(f'{msg}: '))\n",
    "    try:\n",
    "        return imported_function(num)\n",
    "    except SuperConfusingError as e:\n",
    "        raise ValueError('3 is no good.') from e\n",
    "\n",
    "less_confusing_user_function('Enter 3')"
   ]
  },
  {
   "cell_type": "markdown",
   "metadata": {},
   "source": [
    "That's a *little* better.  If the user inspects the traceback, he'll see that there was in fact only one error but it was converted into another error.  We still have the problem of the super verbose traceback.  Does the user really need to see the internal guts of `imported_function`?  Probably not.  Let's try that again."
   ]
  },
  {
   "cell_type": "code",
   "execution_count": null,
   "metadata": {},
   "outputs": [],
   "source": [
    "def clean_user_function(msg='Please enter a number'):\n",
    "    num = int(input(f'{msg}: '))\n",
    "    try:\n",
    "        return imported_function(num)\n",
    "    except SuperConfusingError:\n",
    "        raise ValueError('3 is no good.') from None\n",
    "\n",
    "clean_user_function('Enter 3')"
   ]
  },
  {
   "cell_type": "markdown",
   "metadata": {},
   "source": [
    "Ah, perfect!  Now the user only sees what he needs to see.  The `from None` in the `raise` line erases the prior traceback information.\n",
    "\n",
    "Bare exceptions\n",
    "-------------------\n",
    "\n",
    "I mentioned earlier that you should be as specific as possible when catching exceptions.  However, what if, once again, you've got a function you've imported from some third-party library and the library's documentation doesn't tell you what kind of exceptions the function can raise?  You'd still like to catch any potential exceptions and perhaps log them to the screen.  Can we do a bare `except` in this special case?  That is, is this okay?\n",
    "\n",
    "```python\n",
    "try:\n",
    "    return imported_function()\n",
    "except:\n",
    "    print('imported_function failed.')\n",
    "    return None\n",
    "```\n",
    "\n",
    "Nope!  That's still unacceptable.  To put it clearly, you should never, ever, ever, ever, ever, **ever** use a bare `except`.  What you should do instead is\n",
    "\n",
    "```python\n",
    "try:\n",
    "    return imported_function()\n",
    "except Exception:\n",
    "    print('imported_function failed.')\n",
    "    return None\n",
    "```\n",
    "\n",
    "What's the difference?  After all, a bare `except` catches all errors and `except Exception` catches all errors, right?\n",
    "\n",
    "Actually, that's not correct.  While almost all exceptions you encounter will be instances of the `Exception` class, there is a more general category."
   ]
  },
  {
   "cell_type": "code",
   "execution_count": null,
   "metadata": {},
   "outputs": [],
   "source": [
    "print(issubclass(Exception, BaseException))\n",
    "print(issubclass(SystemExit, Exception))\n",
    "print(issubclass(SystemExit, BaseException))"
   ]
  },
  {
   "cell_type": "markdown",
   "metadata": {},
   "source": [
    "`BaseException` is the true base class of all exceptions.  However, you only want to catch exceptions which fall under `Exception`.  A bare `except` will catch instances of `BaseException`.  Why is this a problem?  What if you wanted to terminate your program under certain conditions?  Calling `exit` actually raises a `SystemExit` exception which, as we just saw, falls under `BaseException` but not `Exception`.  We probably don't want to stop the program from exiting if that's what it wants to do.\n",
    "\n",
    "Long story short: **NEVER** do a bare `except`.  If you have to, do `except Exception`."
   ]
  }
 ],
 "metadata": {
  "kernelspec": {
   "display_name": "Python 3",
   "language": "python",
   "name": "python3"
  },
  "language_info": {
   "codemirror_mode": {
    "name": "ipython",
    "version": 3
   },
   "file_extension": ".py",
   "mimetype": "text/x-python",
   "name": "python",
   "nbconvert_exporter": "python",
   "pygments_lexer": "ipython3",
   "version": "3.8.16"
  }
 },
 "nbformat": 4,
 "nbformat_minor": 4
}
